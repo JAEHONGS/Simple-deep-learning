{
 "cells": [
  {
   "cell_type": "code",
   "execution_count": 1,
   "id": "2e3c735c",
   "metadata": {},
   "outputs": [],
   "source": [
    "import pandas as pd\n",
    "import numpy as np\n",
    "import matplotlib as mpl\n",
    "import matplotlib.pyplot as plt\n",
    "\n",
    "import seaborn as sns\n",
    "\n",
    "import collections"
   ]
  },
  {
   "cell_type": "code",
   "execution_count": 2,
   "id": "bf454f94",
   "metadata": {},
   "outputs": [],
   "source": [
    "planets_train = pd.read_csv(\"C:/Users/user/.jupyter/주피터 파일/data/planets_train.csv\")\n",
    "planets_train.drop(['Unnamed: 0'], axis = 1, inplace = True)\n",
    "\n",
    "planets_test = pd.read_csv(\"C:/Users/user/.jupyter/주피터 파일/data/planets_test.csv\")\n",
    "planets_test.drop(['Unnamed: 0'], axis = 1, inplace = True)"
   ]
  },
  {
   "cell_type": "code",
   "execution_count": 3,
   "id": "90b9d89b",
   "metadata": {},
   "outputs": [],
   "source": [
    "train_x = planets_train.iloc[:, 1:6]\n",
    "train_y = planets_train.iloc[:, 0]\n",
    "\n",
    "test_x = planets_test.iloc[:, 1:6]\n",
    "test_y = planets_test.iloc[:, 0]"
   ]
  },
  {
   "cell_type": "code",
   "execution_count": 4,
   "id": "7d846f8e",
   "metadata": {},
   "outputs": [],
   "source": [
    "train_y = train_y.where((train_y == 'Radial Velocity') | (train_y == 'Transit'), 'Others')\n",
    "test_y = test_y.where((test_y == 'Radial Velocity') | (test_y == 'Transit'), 'Others')"
   ]
  },
  {
   "cell_type": "code",
   "execution_count": 5,
   "id": "07a8f0db",
   "metadata": {},
   "outputs": [],
   "source": [
    "train_x[['orbital_period', 'distance', 'mass']] = np.log(train_x[['orbital_period', 'distance', 'mass']])\n",
    "test_x[['orbital_period', 'distance', 'mass']] = np.log(test_x[['orbital_period', 'distance', 'mass']])"
   ]
  },
  {
   "cell_type": "code",
   "execution_count": 6,
   "id": "37b8286a",
   "metadata": {},
   "outputs": [],
   "source": [
    "train_x = train_x.interpolate()\n",
    "test_x = test_x.interpolate()"
   ]
  },
  {
   "cell_type": "code",
   "execution_count": 7,
   "id": "2075e255",
   "metadata": {},
   "outputs": [],
   "source": [
    "from sklearn.preprocessing import RobustScaler, LabelEncoder\n",
    "\n",
    "train_x = RobustScaler().fit_transform(train_x)\n",
    "test_x = RobustScaler().fit_transform(test_x)"
   ]
  },
  {
   "cell_type": "code",
   "execution_count": 8,
   "id": "438dcb9f",
   "metadata": {},
   "outputs": [],
   "source": [
    "from imblearn.over_sampling import SMOTE\n",
    "\n",
    "x_train, y_train = SMOTE(random_state=0).fit_resample(train_x, train_y)\n",
    "x_test, y_test = SMOTE(random_state=0).fit_resample(test_x, test_y)"
   ]
  },
  {
   "cell_type": "code",
   "execution_count": 9,
   "id": "cb62cdf4",
   "metadata": {},
   "outputs": [],
   "source": [
    "y_train = LabelEncoder().fit_transform(y_train)\n",
    "y_test = LabelEncoder().fit_transform(y_test)"
   ]
  },
  {
   "cell_type": "code",
   "execution_count": 10,
   "id": "1cc2159e",
   "metadata": {},
   "outputs": [],
   "source": [
    "y_train_oh = pd.get_dummies(y_train).values\n",
    "y_test_oh = pd.get_dummies(y_test).values"
   ]
  },
  {
   "cell_type": "code",
   "execution_count": 11,
   "id": "dcf3b489",
   "metadata": {},
   "outputs": [],
   "source": [
    "class Affine:\n",
    "    def __init__(self,W,b):\n",
    "        self.W = W\n",
    "        self.b = b\n",
    "        \n",
    "        self.x = None\n",
    "        self.original_x_shape = None\n",
    "        self.dw = None\n",
    "        self.db = None\n",
    "    \n",
    "    def backward(self,dout):\n",
    "        dx = np.dot(dout,self.W.T)\n",
    "        self.dw = np.dot(self.x.T, dout)\n",
    "        self.db = np.sum(dout, axis=0)\n",
    "        return dx\n",
    "    \n",
    "    def forward(self,x):\n",
    "\n",
    "        self.x = x\n",
    "        out = np.dot(self.x,self.W) + self.b\n",
    "        return out"
   ]
  },
  {
   "cell_type": "code",
   "execution_count": 12,
   "id": "999d6ba7",
   "metadata": {},
   "outputs": [],
   "source": [
    "class ReLU():\n",
    "    def __init__(self):\n",
    "        self.parameter = {}\n",
    "        self.mask = None\n",
    "    \n",
    "    def forward(self,x):\n",
    "        y = x.copy()\n",
    "        mask = (x<0)\n",
    "        self.mask = mask\n",
    "        y[mask] = 0 \n",
    "        return y\n",
    "    \n",
    "    def backward(self,dy):\n",
    "        mask=self.mask\n",
    "        dx = dy.copy()\n",
    "        dx[mask] = 0\n",
    "        return dx"
   ]
  },
  {
   "cell_type": "code",
   "execution_count": 13,
   "id": "bc9c2641",
   "metadata": {},
   "outputs": [],
   "source": [
    "class Adam:\n",
    "    def __init__(self,lr=0.001, beta1=0.9, beta2=0.99):\n",
    "        self.lr = lr\n",
    "        self.beta1 = beta1\n",
    "        self.beta2 = beta2\n",
    "        self.iter = 0\n",
    "        self.m = None\n",
    "        self.v = None\n",
    "        \n",
    "    def update(self,params,grads):\n",
    "        if self.m is None:\n",
    "            self.m, self.v = {}, {}\n",
    "            for key, val in params.items():\n",
    "                self.m[key] = np.zeros_like(val)\n",
    "                self.v[key] = np.zeros_like(val)\n",
    "                \n",
    "        self.iter = 1\n",
    "        lr_t = self.lr * np.sqrt(1.0 - self.beta2**self.iter) / (1.0 - self.beta1**self.iter)\n",
    "        \n",
    "        for key in params.keys():\n",
    "            self.m[key] += (1-self.beta1) * (grads[key]-self.m[key])\n",
    "            self.v[key] += (1-self.beta2) * (grads[key]**2 - self.v[key])\n",
    "            \n",
    "            params[key] -= lr_t * self.m[key] / (np.sqrt(self.v[key])+1e-7)"
   ]
  },
  {
   "cell_type": "code",
   "execution_count": 14,
   "id": "1a2d1888",
   "metadata": {},
   "outputs": [],
   "source": [
    "class Dropout:\n",
    "    def __init__(self,dropout_ratio = 0.5):\n",
    "        self.dropout_ratio = dropout_ratio\n",
    "        self.mask = None\n",
    "        \n",
    "    def forward(self,x, train_flag = True):\n",
    "        if train_flag:\n",
    "            self.mask = np.random.rand(*x.shape) > self.dropout_ratio\n",
    "            return x * self.mask\n",
    "        else:\n",
    "            return x * (1.0-self.dropout_ratio)\n",
    "    \n",
    "    def backward(self, dout):\n",
    "        return dout * self.mask"
   ]
  },
  {
   "cell_type": "code",
   "execution_count": 15,
   "id": "40a9fe74",
   "metadata": {},
   "outputs": [],
   "source": [
    "eps = 1e-8\n",
    "class CrossEntropyWithSoftmax() :\n",
    "    \n",
    "    def __init__(self,reduction=True) :\n",
    "        self.p_ = {}\n",
    "        self.T = None\n",
    "        self.Y = None\n",
    "        self.reduction = reduction\n",
    "\n",
    "    def forward(self,T,X) :\n",
    "        self.T = T\n",
    "        expX = np.exp(X-np.max(X))\n",
    "        Y = expX/(eps + np.sum(expX,axis=1,keepdims=True))\n",
    "        self.Y = Y\n",
    "        loss = T*np.log(Y)\n",
    "        \n",
    "        if self.reduction :\n",
    "            loss = -np.sum(loss)\n",
    "\n",
    "        else :\n",
    "            loss = -np.sum(loss,axis=1)\n",
    "\n",
    "        return (loss, Y)\n",
    "\n",
    "    def backward(self,dY) :\n",
    "        T = self.T; Y = self.Y\n",
    "        \n",
    "        return Y - T"
   ]
  },
  {
   "cell_type": "code",
   "execution_count": 31,
   "id": "643de164",
   "metadata": {},
   "outputs": [],
   "source": [
    "class Net():\n",
    "    def __init__(self, input_size, hidden_size_list, output_size,\n",
    "                activation='relu', weight_init_std = 'he', weight_decay_lambda=0,\n",
    "                use_dropout=False, dropout_ration = 0.5):\n",
    "        \n",
    "        self.input_size = input_size\n",
    "        self.hidden_size_list = hidden_size_list\n",
    "        self.output_size = output_size\n",
    "        self.hidden_layer_num = len(hidden_size_list)\n",
    "        self.use_dropout = use_dropout\n",
    "        self.weight_decay_lambda = weight_decay_lambda\n",
    "        self.params ={}\n",
    "        \n",
    "        self.__init_weight(weight_init_std)\n",
    "        \n",
    "        activation_layer = {'relu':ReLU}\n",
    "        self.layers = collections.OrderedDict()\n",
    "        \n",
    "        for idx in range(1,self.hidden_layer_num+1):\n",
    "            self.layers['Affine'+str(idx)] = Affine(self.params['W'+str(idx)],\n",
    "                                                   self.params['b'+str(idx)])\n",
    "            \n",
    "            self.layers['Activation_function' + str(idx)] = activation_layer[activation]()\n",
    "            if self.use_dropout:\n",
    "                self.layers['Dropout'+str(idx)] = Dropout(dropout_ration)\n",
    "                \n",
    "        \n",
    "        idx = self.hidden_layer_num+1\n",
    "        self.layers['Affine' + str(idx)] = Affine(self.params['W'+str(idx)],\n",
    "                                                 self.params['b'+str(idx)])\n",
    "        \n",
    "        self.last_layer = CrossEntropyWithSoftmax()\n",
    "        \n",
    "    def __init_weight(self,weight_init_std):\n",
    "        \n",
    "        all_size_list = [self.input_size]+self.hidden_size_list + [self.output_size]\n",
    "        for idx in range(1, len(all_size_list)):\n",
    "            scale = weight_init_std\n",
    "            if str(weight_init_std).lower() in ('relu','he'):\n",
    "                scale = np.sqrt(2.0/all_size_list[idx-1])\n",
    "            elif str(weight_init_std).lower() in ('sigmoid','xavier'):\n",
    "                scale = np.sqrt(1.0/all_size_list[idx-1])\n",
    "            self.params['W'+str(idx)] = scale*np.random.randn(all_size_list[idx-1], all_size_list[idx])\n",
    "            self.params['b'+str(idx)] = np.zeros(all_size_list[idx])\n",
    "            \n",
    "    def predict(self,x,train_flag = False):\n",
    "        for key,layer in self.layers.items():\n",
    "            if \"Dropout\" in key or \"BacthNorm\" in key:\n",
    "                x = layer.forward(x,train_flag)\n",
    "            else:\n",
    "                x = layer.forward(x)\n",
    "        return x\n",
    "    \n",
    "    def loss(self,x,t,train_flag = False):\n",
    "        y = self.predict(x,train_flag)\n",
    "        weight_decay = 0\n",
    "        \n",
    "        for idx in range(1,self.hidden_layer_num+2):\n",
    "            W = self.params['W'+str(idx)]\n",
    "            weight_decay += 0.5 * self.weight_decay_lambda * np.sum(W**2)\n",
    "        temp,_ = self.last_layer.forward(t,y)\n",
    "        return  temp + weight_decay\n",
    "    \n",
    "    def accuracy(self,X,T):\n",
    "        Y = self.predict(X, train_flag = False)\n",
    "#         if T.ndim !=1:\n",
    "#             T = np.argmax(T,axis=1)\n",
    "\n",
    "        _, Y = self.last_layer.forward(T,Y)\n",
    "        Y = np.argmax(Y,axis=1)\n",
    "        T = np.argmax(T,axis=1)\n",
    "        accuracy = np.mean(Y==T)*100\n",
    "        return (Y,accuracy)\n",
    "    \n",
    "\n",
    "\n",
    "    def numerical_gradient(self,X,T):\n",
    "        loss_W = lambda W: self.loss(X,T,train_flag = True)\n",
    "        grads = {}\n",
    "        \n",
    "        for idx in range(1, self.hidden_layer_num+2):\n",
    "            grads['W' + str(idx)] = numerical_gradient(loss_W, self.params['W'+str(idx)])\n",
    "            grads['b' + str(idx)] = numerical_gradient(loss_W, self.params['b'+str(idx)])\n",
    "            \n",
    "        return grads\n",
    "    \n",
    "    def gradient(self,x,t):\n",
    "        self.loss(x,t,train_flag = True)\n",
    "        \n",
    "        dout = 1\n",
    "        dout = self.last_layer.backward(dout)\n",
    "        \n",
    "        layers = list(self.layers.values())\n",
    "        layers.reverse()\n",
    "        for layer in layers:\n",
    "            dout = layer.backward(dout)\n",
    "        \n",
    "        grads = {}\n",
    "        for idx in range(1,self.hidden_layer_num +2):\n",
    "            grads['W' + str(idx)] = self.layers['Affine'+str(idx)].dw + self.weight_decay_lambda *self.params['W'+str(idx)]\n",
    "            grads['b' + str(idx)] = self.layers['Affine'+str(idx)].db\n",
    "            \n",
    "        return grads"
   ]
  },
  {
   "cell_type": "code",
   "execution_count": 32,
   "id": "b202b226",
   "metadata": {},
   "outputs": [],
   "source": [
    "network = Net(input_size = 5, hidden_size_list = [64,256],output_size = 3,use_dropout=False)"
   ]
  },
  {
   "cell_type": "code",
   "execution_count": 33,
   "id": "3ec5c957",
   "metadata": {},
   "outputs": [],
   "source": [
    "optimizer = Adam(lr=0.001)\n",
    "\n",
    "N = len(x_train)\n",
    "batch_size = 16\n",
    "Epochs = 30\n",
    "iter_num = int(N/batch_size)"
   ]
  },
  {
   "cell_type": "code",
   "execution_count": 34,
   "id": "b08ddb45",
   "metadata": {},
   "outputs": [
    {
     "name": "stdout",
     "output_type": "stream",
     "text": [
      "*** 1th epoch\n",
      "Loss : 15.93706243942397\n",
      "Train acc : 75.57565789473684, Test acc : 52.51361161524503\n",
      "*** 2th epoch\n",
      "Loss : 16.85076552513994\n",
      "Train acc : 66.11842105263158, Test acc : 59.39806412583181\n",
      "*** 3th epoch\n",
      "Loss : 13.41471894538644\n",
      "Train acc : 64.96710526315789, Test acc : 62.90986085904416\n",
      "*** 4th epoch\n",
      "Loss : 11.550320452209576\n",
      "Train acc : 67.59868421052632, Test acc : 65.42649727767696\n",
      "*** 5th epoch\n",
      "Loss : 10.781486351553333\n",
      "Train acc : 69.07894736842105, Test acc : 66.75438596491227\n",
      "*** 6th epoch\n",
      "Loss : 10.285756656395359\n",
      "Train acc : 69.81907894736842, Test acc : 67.50756200846942\n",
      "*** 7th epoch\n",
      "Loss : 9.828620986714693\n",
      "Train acc : 71.38157894736842, Test acc : 68.23956442831216\n",
      "*** 8th epoch\n",
      "Loss : 9.42928964928993\n",
      "Train acc : 72.53289473684211, Test acc : 68.85057471264368\n",
      "*** 9th epoch\n",
      "Loss : 9.051222543088508\n",
      "Train acc : 73.76644736842105, Test acc : 69.31941923774954\n",
      "***10th epoch\n",
      "Loss : 8.716206308913353\n",
      "Train acc : 75.08223684210526, Test acc : 69.66122202056867\n",
      "***11th epoch\n",
      "Loss : 8.388946735013\n",
      "Train acc : 76.15131578947368, Test acc : 70.01814882032666\n",
      "***12th epoch\n",
      "Loss : 8.085673614905467\n",
      "Train acc : 77.05592105263158, Test acc : 70.37507562008466\n",
      "***13th epoch\n",
      "Loss : 7.788589555133379\n",
      "Train acc : 78.70065789473684, Test acc : 70.7289776164549\n",
      "***14th epoch\n",
      "Loss : 7.5025850396056795\n",
      "Train acc : 79.4407894736842, Test acc : 70.93466424682396\n",
      "***15th epoch\n",
      "Loss : 7.240822730387424\n",
      "Train acc : 80.01644736842105, Test acc : 71.15245009074408\n",
      "***16th epoch\n",
      "Loss : 6.966093790611612\n",
      "Train acc : 81.0032894736842, Test acc : 71.42468239564427\n",
      "***17th epoch\n",
      "Loss : 6.7072482200442645\n",
      "Train acc : 81.90789473684211, Test acc : 71.61222020568664\n",
      "***18th epoch\n",
      "Loss : 6.457147206707324\n",
      "Train acc : 83.22368421052632, Test acc : 71.75741076830009\n",
      "***19th epoch\n",
      "Loss : 6.227345040140877\n",
      "Train acc : 83.88157894736842, Test acc : 71.92982456140354\n",
      "***20th epoch\n",
      "Loss : 5.994320102078723\n",
      "Train acc : 84.375, Test acc : 72.24742891712039\n",
      "***21th epoch\n",
      "Loss : 5.799521781045069\n",
      "Train acc : 85.27960526315789, Test acc : 72.47731397459168\n",
      "***22th epoch\n",
      "Loss : 5.590039988187302\n",
      "Train acc : 86.01973684210526, Test acc : 72.77676950998186\n",
      "***23th epoch\n",
      "Loss : 5.385191903742362\n",
      "Train acc : 86.59539473684211, Test acc : 73.0550514216576\n",
      "***24th epoch\n",
      "Loss : 5.186281376882584\n",
      "Train acc : 87.2532894736842, Test acc : 73.09739866908653\n",
      "***25th epoch\n",
      "Loss : 5.011742054179425\n",
      "Train acc : 87.7467105263158, Test acc : 73.3151845130067\n",
      "***26th epoch\n",
      "Loss : 4.815594051571952\n",
      "Train acc : 88.73355263157895, Test acc : 73.39685420447672\n",
      "***27th epoch\n",
      "Loss : 4.653833670259769\n",
      "Train acc : 89.14473684210526, Test acc : 73.46944948578344\n",
      "***28th epoch\n",
      "Loss : 4.487044285648997\n",
      "Train acc : 89.47368421052632, Test acc : 73.53901996370236\n",
      "***29th epoch\n",
      "Loss : 4.33010420650788\n",
      "Train acc : 89.96710526315789, Test acc : 73.68723532970357\n",
      "***30th epoch\n",
      "Loss : 4.186462551224426\n",
      "Train acc : 90.21381578947368, Test acc : 73.59346642468239\n"
     ]
    }
   ],
   "source": [
    "preds_list = []\n",
    "loss_list = []\n",
    "\n",
    "for epoch in range(Epochs):\n",
    "    train_acc_batch = 0.0\n",
    "    test_acc_batch = 0.0\n",
    "    loss_temp = 0.0\n",
    "    for j in range(iter_num):\n",
    "        iter_n = batch_size * j\n",
    "        x_batch = np.array(x_train)[iter_n:(iter_n+batch_size)]\n",
    "        t_batch = np.array(y_train_oh)[iter_n:(iter_n+batch_size)]\n",
    "        \n",
    "        loss_temp += network.loss(x_batch,t_batch)\n",
    "        \n",
    "        grads = network.gradient(x_batch,t_batch)\n",
    "        optimizer.update(network.params, grads)\n",
    "        \n",
    "        _,acc_tr = network.accuracy(x_batch, t_batch)\n",
    "        preds, acc_te = network.accuracy(np.array(x_test),np.array(y_test_oh))\n",
    "        train_acc_batch += acc_tr\n",
    "        test_acc_batch += acc_te\n",
    "        if (epoch == Epochs-1) and(j == iter_num-1):\n",
    "            preds_list.extend(preds)\n",
    "    train_loss = loss_temp / iter_num\n",
    "    train_acc = train_acc_batch / iter_num\n",
    "    test_acc = test_acc_batch / iter_num\n",
    "    loss_list.append(train_loss)\n",
    "    \n",
    "    print(\"***%2dth epoch\"%(epoch+1))\n",
    "    print(\"Loss : {}\".format(train_loss))\n",
    "    print(\"Train acc : {}, Test acc : {}\".format(train_acc, test_acc))"
   ]
  },
  {
   "cell_type": "code",
   "execution_count": 39,
   "id": "56e43274",
   "metadata": {},
   "outputs": [
    {
     "name": "stdout",
     "output_type": "stream",
     "text": [
      "test set -> acc: 73.56%\n"
     ]
    }
   ],
   "source": [
    "_, test_acc = network.accuracy(x_test,y_test_oh)\n",
    "\n",
    "print('test set -> acc: %5.2f%%'%(test_acc))"
   ]
  },
  {
   "cell_type": "code",
   "execution_count": 21,
   "id": "52cf2801",
   "metadata": {},
   "outputs": [],
   "source": [
    "true_label= np.array(y_test_oh)\n",
    "tl_list=true_label.argmax(axis=1)"
   ]
  },
  {
   "cell_type": "code",
   "execution_count": 22,
   "id": "89ba4f78",
   "metadata": {},
   "outputs": [
    {
     "data": {
      "text/plain": [
       "[Text(0, 0.5, 'Radial Velocity'),\n",
       " Text(0, 1.5, 'Transit'),\n",
       " Text(0, 2.5, 'Others')]"
      ]
     },
     "execution_count": 22,
     "metadata": {},
     "output_type": "execute_result"
    },
    {
     "data": {
      "image/png": "[encoded data removed]",
      "text/plain": [
       "<Figure size 432x288 with 2 Axes>"
      ]
     },
     "metadata": {
      "needs_background": "light"
     },
     "output_type": "display_data"
    }
   ],
   "source": [
    "from sklearn.metrics import confusion_matrix\n",
    "\n",
    "classes = ['Radial Velocity','Transit', 'Others']\n",
    "\n",
    "cm = confusion_matrix(tl_list,preds_list)\n",
    "c=sns.heatmap(cm,annot=True,fmt='g')\n",
    "c.set(xlabel = \"predict\" , ylabel = \"True label\")\n",
    "c.set_xticklabels(classes,rotation=45)\n",
    "c.set_yticklabels(classes,rotation=45)"
   ]
  }
 ],
 "metadata": {
  "kernelspec": {
   "display_name": "Python 3 (ipykernel)",
   "language": "python",
   "name": "python3"
  },
  "language_info": {
   "codemirror_mode": {
    "name": "ipython",
    "version": 3
   },
   "file_extension": ".py",
   "mimetype": "text/x-python",
   "name": "python",
   "nbconvert_exporter": "python",
   "pygments_lexer": "ipython3",
   "version": "3.8.10"
  }
 },
 "nbformat": 4,
 "nbformat_minor": 5
}
