{
 "cells": [
  {
   "cell_type": "code",
   "execution_count": null,
   "id": "94c5e4c5",
   "metadata": {},
   "outputs": [],
   "source": [
    "import pandas as pd\n",
    "import numpy as np\n",
    "import matplotlib as mpl\n",
    "import matplotlib.pyplot as plt\n",
    "\n",
    "import seaborn as sns\n",
    "\n",
    "import collections"
   ]
  },
  {
   "cell_type": "code",
   "execution_count": null,
   "id": "ca1e8aa9",
   "metadata": {},
   "outputs": [],
   "source": [
    "import torch\n",
    "import torch.nn as nn\n",
    "import torch.optim as optim\n",
    "import torch.nn.functional as F\n",
    "\n",
    "from torch.utils.data import DataLoader, Dataset, TensorDataset\n",
    "\n",
    "import torchvision\n",
    "import torchvision.datasets as datasets\n",
    "import torchvision.transforms as transforms"
   ]
  },
  {
   "cell_type": "code",
   "execution_count": null,
   "id": "d694a72b",
   "metadata": {},
   "outputs": [],
   "source": [
    "planets_train = pd.read_csv(\"C:/Users/user/.jupyter/주피터 파일/data/planets_train.csv\")\n",
    "planets_train.drop(['Unnamed: 0'], axis = 1, inplace = True)\n",
    "\n",
    "planets_test = pd.read_csv(\"C:/Users/user/.jupyter/주피터 파일/data/planets_test.csv\")\n",
    "planets_test.drop(['Unnamed: 0'], axis = 1, inplace = True)"
   ]
  },
  {
   "cell_type": "code",
   "execution_count": null,
   "id": "687665e7",
   "metadata": {},
   "outputs": [],
   "source": [
    "train_x = planets_train.iloc[:, 1:6]\n",
    "train_y = planets_train.iloc[:, 0]\n",
    "\n",
    "test_x = planets_test.iloc[:, 1:6]\n",
    "test_y = planets_test.iloc[:, 0]"
   ]
  },
  {
   "cell_type": "code",
   "execution_count": null,
   "id": "e0176ab6",
   "metadata": {},
   "outputs": [],
   "source": [
    "train_y = train_y.where((train_y == 'Radial Velocity') | (train_y == 'Transit'), 'Others')\n",
    "test_y = test_y.where((test_y == 'Radial Velocity') | (test_y == 'Transit'), 'Others')"
   ]
  },
  {
   "cell_type": "code",
   "execution_count": null,
   "id": "4e1e1016",
   "metadata": {},
   "outputs": [],
   "source": [
    "train_x[['orbital_period', 'distance', 'mass']] = np.log(train_x[['orbital_period', 'distance', 'mass']])\n",
    "test_x[['orbital_period', 'distance', 'mass']] = np.log(test_x[['orbital_period', 'distance', 'mass']])"
   ]
  },
  {
   "cell_type": "code",
   "execution_count": null,
   "id": "3caf8f74",
   "metadata": {},
   "outputs": [],
   "source": [
    "train_x = train_x.interpolate()\n",
    "test_x = test_x.interpolate()"
   ]
  },
  {
   "cell_type": "code",
   "execution_count": null,
   "id": "fb2c0374",
   "metadata": {},
   "outputs": [],
   "source": [
    "from sklearn.preprocessing import RobustScaler, LabelEncoder\n",
    "\n",
    "train_x = RobustScaler().fit_transform(train_x)\n",
    "test_x = RobustScaler().fit_transform(test_x)"
   ]
  },
  {
   "cell_type": "code",
   "execution_count": null,
   "id": "7f6f8508",
   "metadata": {},
   "outputs": [],
   "source": [
    "from imblearn.over_sampling import SMOTE\n",
    "\n",
    "x_train, y_train = SMOTE(random_state=0).fit_resample(train_x, train_y)\n",
    "x_test, y_test = SMOTE(random_state=0).fit_resample(test_x, test_y)"
   ]
  },
  {
   "cell_type": "code",
   "execution_count": null,
   "id": "65eee11b",
   "metadata": {},
   "outputs": [],
   "source": [
    "y_train = LabelEncoder().fit_transform(y_train)\n",
    "y_test = LabelEncoder().fit_transform(y_test)"
   ]
  },
  {
   "cell_type": "code",
   "execution_count": null,
   "id": "41aa80ff",
   "metadata": {},
   "outputs": [],
   "source": [
    "y_train_oh = pd.get_dummies(y_train).values\n",
    "y_test_oh = pd.get_dummies(y_test).values"
   ]
  },
  {
   "cell_type": "code",
   "execution_count": null,
   "id": "067ad448",
   "metadata": {},
   "outputs": [],
   "source": [
    "x_train = torch.from_numpy(x_train).float()\n",
    "y_train_oh = torch.from_numpy(y_train_oh).float()\n",
    "\n",
    "x_test = torch.from_numpy(x_test).float()\n",
    "y_test_oh = torch.from_numpy(y_test_oh).float()\n",
    "\n",
    "y_train = torch.from_numpy(y_train).float()\n",
    "y_test = torch.from_numpy(y_test).float()"
   ]
  },
  {
   "cell_type": "code",
   "execution_count": null,
   "id": "bc19ba02",
   "metadata": {},
   "outputs": [],
   "source": [
    "class BasicDataset(Dataset):\n",
    "    def __init__(self, x_tensor, y_tensor):\n",
    "        super(BasicDataset, self).__init__()\n",
    "\n",
    "        self.x = x_tensor\n",
    "        self.y = y_tensor\n",
    "        \n",
    "    def __getitem__(self, index):\n",
    "        return self.x[index], self.y[index]\n",
    "\n",
    "    def __len__(self):\n",
    "        return len(self.x)"
   ]
  },
  {
   "cell_type": "code",
   "execution_count": null,
   "id": "3d32841d",
   "metadata": {},
   "outputs": [],
   "source": [
    "tr_dataset = BasicDataset(x_train, y_train_oh)\n",
    "val_dataset = BasicDataset(x_train, y_train)\n",
    "ts_dataset = BasicDataset(x_test, y_test)\n",
    "\n",
    "testloader = DataLoader(ts_dataset, batch_size=16, shuffle=True)"
   ]
  },
  {
   "cell_type": "code",
   "execution_count": null,
   "id": "17d65b6d",
   "metadata": {},
   "outputs": [],
   "source": [
    "from torch.utils.data.sampler import SubsetRandomSampler\n",
    "\n",
    "batch_size = 16\n",
    "\n",
    "validation_split = .2  # 비율을 얼마로 줄것인지?\n",
    "\n",
    "shuffle_dataset = True\n",
    "\n",
    "random_seed= 4\n",
    "\n",
    "dataset_size = len(tr_dataset)\n",
    "\n",
    "indices = list(range(dataset_size))\n",
    "\n",
    "split = int(np.floor(validation_split * dataset_size))\n",
    "\n",
    "if shuffle_dataset :\n",
    "\n",
    "    np.random.seed(random_seed)\n",
    "\n",
    "    np.random.shuffle(indices)\n",
    "\n",
    "train_indices, val_indices = indices[split:], indices[:split]\n",
    "\n",
    "train_sampler = SubsetRandomSampler(train_indices)\n",
    "\n",
    "valid_sampler = SubsetRandomSampler(val_indices)\n",
    "\n",
    "train_loader = DataLoader(tr_dataset, batch_size=batch_size, sampler=train_sampler)\n",
    "\n",
    "validation_loader = DataLoader(val_dataset, batch_size=batch_size,sampler=valid_sampler)"
   ]
  },
  {
   "cell_type": "code",
   "execution_count": null,
   "id": "fbbf752c",
   "metadata": {},
   "outputs": [],
   "source": [
    "class Net(nn.Module):\n",
    "    \n",
    "    def __init__(self):\n",
    "        super(Net, self).__init__()\n",
    "        self.fc = nn.Sequential(\n",
    "            nn.Linear(5, 64),\n",
    "            #nn.BatchNorm1d(64),\n",
    "            nn.ReLU(),\n",
    "            nn.Linear(64, 256),\n",
    "            #nn.BatchNorm1d(256),\n",
    "            nn.ReLU(),\n",
    "            nn.Linear(256, 3),\n",
    "            nn.Softmax(dim=1)\n",
    "        )\n",
    "\n",
    "    def forward(self, x):\n",
    "        x = self.fc(x)\n",
    "        \n",
    "        return x "
   ]
  },
  {
   "cell_type": "code",
   "execution_count": null,
   "id": "456ad2dc",
   "metadata": {},
   "outputs": [],
   "source": [
    "net = Net()\n",
    "\n",
    "criterion = nn.CrossEntropyLoss()\n",
    "\n",
    "optimizer = optim.Adam(net.parameters(), lr=0.001) # weight_decay=0.001)\n",
    "#optimizer = optim.SGD(net.parameters(), lr=0.01, momentum=0.9, weight_decay=0.001)"
   ]
  },
  {
   "cell_type": "code",
   "execution_count": null,
   "id": "d51cb941",
   "metadata": {},
   "outputs": [],
   "source": [
    "import pytorch_model_summary\n",
    "\n",
    "print(pytorch_model_summary.summary(net, torch.zeros(1, 5), show_input=True))"
   ]
  },
  {
   "cell_type": "code",
   "execution_count": null,
   "id": "0ae7b34f",
   "metadata": {},
   "outputs": [],
   "source": [
    "loss_list = []\n",
    "accuracy_list = []\n",
    "epochs = np.arange(1,31)\n",
    "total_batch = len(train_loader)\n",
    "\n",
    "for epoch in epochs:\n",
    "    cost=0 \n",
    "    \n",
    "    for inputs, labels in train_loader:\n",
    "        \n",
    "        optimizer.zero_grad()\n",
    "        \n",
    "        #forward \n",
    "        outputs = net(inputs)\n",
    "        loss = criterion(outputs, torch.max(labels, 1)[1])\n",
    "        \n",
    "        #backward\n",
    "        loss.backward()\n",
    "        \n",
    "        #Update\n",
    "        optimizer.step()\n",
    "        \n",
    "        cost += loss\n",
    "        \n",
    "    with torch.no_grad():\n",
    "        total = 0 \n",
    "        correct=0 \n",
    "            \n",
    "        for inputs, labels in validation_loader:\n",
    "\n",
    "            outputs = net(inputs)\n",
    "            _, predict = torch.max(outputs.data, 1)\n",
    "            total += labels.size(0)\n",
    "            correct += (predict==labels).sum().item()\n",
    "    \n",
    "    avg_cost = cost / total_batch \n",
    "    accuracy = 100*correct/total \n",
    "    \n",
    "    loss_list.append(avg_cost.detach().numpy())\n",
    "    accuracy_list.append(accuracy) \n",
    "    \n",
    "    print(\"epoch : {} | loss : {:.6f}\" .format(epoch, avg_cost))\n",
    "    print(\"Accuracy : {:.2f}\".format(100*correct/total))\n",
    "    print(\"------\")"
   ]
  },
  {
   "cell_type": "code",
   "execution_count": null,
   "id": "97abd9b0",
   "metadata": {},
   "outputs": [],
   "source": [
    "correct = 0\n",
    "total = 0\n",
    "pred_list = []\n",
    "label_list = []\n",
    "\n",
    "with torch.no_grad():\n",
    "    for data in testloader:\n",
    "        inputs, labels = data\n",
    "        \n",
    "        outputs = net(inputs)\n",
    "\n",
    "        _, predicted = torch.max(outputs, 1)\n",
    "        \n",
    "        total += labels.size(0)\n",
    "        correct += (predicted == labels).sum().item()\n",
    "\n",
    "\n",
    "print('Accuracy of the network on test data: %d %%' % (100 * correct / total))"
   ]
  },
  {
   "cell_type": "code",
   "execution_count": null,
   "id": "88fb2d70",
   "metadata": {},
   "outputs": [],
   "source": [
    "plt.figure(figsize=(10,5))\n",
    "plt.subplot(1,2,1)\n",
    "plt.xlabel('Epoch')\n",
    "plt.ylabel('Loss')\n",
    "plt.plot(epochs,loss_list)\n",
    "plt.subplot(1,2,2)\n",
    "plt.xlabel('Epoch')\n",
    "plt.ylabel('Accuracy')\n",
    "plt.plot(epochs, accuracy_list)\n",
    "plt.show()"
   ]
  }
 ],
 "metadata": {
  "kernelspec": {
   "display_name": "Python 3 (ipykernel)",
   "language": "python",
   "name": "python3"
  },
  "language_info": {
   "codemirror_mode": {
    "name": "ipython",
    "version": 3
   },
   "file_extension": ".py",
   "mimetype": "text/x-python",
   "name": "python",
   "nbconvert_exporter": "python",
   "pygments_lexer": "ipython3",
   "version": "3.8.10"
  }
 },
 "nbformat": 4,
 "nbformat_minor": 5
}
